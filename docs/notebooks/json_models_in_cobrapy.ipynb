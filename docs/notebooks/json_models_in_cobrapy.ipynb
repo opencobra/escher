{
 "metadata": {
  "name": "",
  "signature": "sha256:78a516c98e9979feee6bcc52100d8bbb8d855994bca7d4b074c18e132e9f30a4"
 },
 "nbformat": 3,
 "nbformat_minor": 0,
 "worksheets": [
  {
   "cells": [
    {
     "cell_type": "code",
     "collapsed": false,
     "input": [
      "import cobra\n",
      "import cobra.io"
     ],
     "language": "python",
     "metadata": {},
     "outputs": [],
     "prompt_number": 1
    },
    {
     "cell_type": "code",
     "collapsed": false,
     "input": [
      "# Load a cobra model from anywhere you like\n",
      "model = cobra.io.read_sbml_model('e-coli-core.xml')"
     ],
     "language": "python",
     "metadata": {},
     "outputs": [],
     "prompt_number": 2
    },
    {
     "cell_type": "code",
     "collapsed": false,
     "input": [
      "# Exclude the following attributes so the final json file will be smaller\n",
      "EXCLUDE = ['notes', 'charge', 'compartment', 'annotation',\n",
      "           'subsystem', 'reaction', 'objective_coefficient',\n",
      "           'notes', 'genes', 'description']"
     ],
     "language": "python",
     "metadata": {},
     "outputs": [],
     "prompt_number": 3
    },
    {
     "cell_type": "code",
     "collapsed": false,
     "input": [
      "# generate a json file to load into Escher\n",
      "cobra.io.save_json_model(model, 'e-coli-core.json', exclude_attributes=EXCLUDE)"
     ],
     "language": "python",
     "metadata": {},
     "outputs": [],
     "prompt_number": 4
    },
    {
     "cell_type": "code",
     "collapsed": false,
     "input": [],
     "language": "python",
     "metadata": {},
     "outputs": []
    }
   ],
   "metadata": {}
  }
 ]
}